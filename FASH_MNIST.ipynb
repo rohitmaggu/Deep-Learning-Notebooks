{
  "nbformat": 4,
  "nbformat_minor": 0,
  "metadata": {
    "colab": {
      "name": "FASH-MNIST.ipynb",
      "provenance": [],
      "collapsed_sections": [],
      "authorship_tag": "ABX9TyNBNKP11tXa3mHS8zs41zmC",
      "include_colab_link": true
    },
    "kernelspec": {
      "name": "python3",
      "display_name": "Python 3"
    },
    "accelerator": "GPU"
  },
  "cells": [
    {
      "cell_type": "markdown",
      "metadata": {
        "id": "view-in-github",
        "colab_type": "text"
      },
      "source": [
        "<a href=\"https://colab.research.google.com/github/rohitmaggu/Deep-Learning-Notebooks/blob/master/FASH_MNIST.ipynb\" target=\"_parent\"><img src=\"https://colab.research.google.com/assets/colab-badge.svg\" alt=\"Open In Colab\"/></a>"
      ]
    },
    {
      "cell_type": "code",
      "metadata": {
        "id": "wN34Qdz6P0e-",
        "colab_type": "code",
        "outputId": "d41b63ba-da3f-4a0d-daef-155956f6b6b9",
        "colab": {
          "base_uri": "https://localhost:8080/",
          "height": 80
        }
      },
      "source": [
        "\n",
        "#   Train a ConvNet on the MNIST fashion data.  This data consists of 10 classes of fashion images such\n",
        "#   as shorts, dresses, shoes, purses, etc.  These images replace the handwritten digits in the classic MNIST dataset.\n",
        "#   This change makes it harder to get a high score and more closely reflects real world usage of image \n",
        "#   classification.  And at the same time, is still small enough for the average PC to train in a short time.\n",
        "# See https://github.com/zalandoresearch/fashion-mnist for information and code on Fashion MNIST\n",
        "\n",
        "# This code is based on MNIST example found at Keras.io\n",
        "\n",
        "from __future__ import print_function\n",
        "import keras\n",
        "from keras.datasets import fashion_mnist  # new with Keras 2.1.2.  Yah!!\n",
        "from keras.models import Sequential\n",
        "from keras.layers import Dense, Dropout, Flatten\n",
        "from keras.layers import Conv2D, MaxPooling2D\n",
        "from keras import backend as K\n"
      ],
      "execution_count": 0,
      "outputs": [
        {
          "output_type": "stream",
          "text": [
            "Using TensorFlow backend.\n"
          ],
          "name": "stderr"
        },
        {
          "output_type": "display_data",
          "data": {
            "text/html": [
              "<p style=\"color: red;\">\n",
              "The default version of TensorFlow in Colab will soon switch to TensorFlow 2.x.<br>\n",
              "We recommend you <a href=\"https://www.tensorflow.org/guide/migrate\" target=\"_blank\">upgrade</a> now \n",
              "or ensure your notebook will continue to use TensorFlow 1.x via the <code>%tensorflow_version 1.x</code> magic:\n",
              "<a href=\"https://colab.research.google.com/notebooks/tensorflow_version.ipynb\" target=\"_blank\">more info</a>.</p>\n"
            ],
            "text/plain": [
              "<IPython.core.display.HTML object>"
            ]
          },
          "metadata": {
            "tags": []
          }
        }
      ]
    },
    {
      "cell_type": "code",
      "metadata": {
        "id": "qiFbMlUTDnJ2",
        "colab_type": "code",
        "colab": {}
      },
      "source": [
        "import matplotlib.pyplot as plt\n",
        "import numpy as np\n",
        "import seaborn as sns"
      ],
      "execution_count": 0,
      "outputs": []
    },
    {
      "cell_type": "code",
      "metadata": {
        "id": "cKdggmO9Dqxv",
        "colab_type": "code",
        "outputId": "ffb6fcdb-6f9c-45e1-ea37-dabe0254eee4",
        "colab": {
          "base_uri": "https://localhost:8080/",
          "height": 153
        }
      },
      "source": [
        " #  Supress warning and informational messages\n",
        "import os\n",
        "os.environ['TF_CPP_MIN_LOG_LEVEL'] = '3' \n",
        "\n",
        "# Number of classes - do not change unless the data changes\n",
        "\n",
        "\n",
        "# sizes of batch and # of epochs of data\n",
        "batch_size = 128\n",
        "epochs = 24\n",
        "\n",
        "# input image dimensions\n",
        "img_rows, img_cols = 28, 28\n",
        "\n",
        "# the data, shuffled and split between train and test sets\n",
        "(x_train, y_train), (x_test, y_test) = fashion_mnist.load_data()"
      ],
      "execution_count": 0,
      "outputs": [
        {
          "output_type": "stream",
          "text": [
            "Downloading data from http://fashion-mnist.s3-website.eu-central-1.amazonaws.com/train-labels-idx1-ubyte.gz\n",
            "32768/29515 [=================================] - 0s 4us/step\n",
            "Downloading data from http://fashion-mnist.s3-website.eu-central-1.amazonaws.com/train-images-idx3-ubyte.gz\n",
            "26427392/26421880 [==============================] - 2s 0us/step\n",
            "Downloading data from http://fashion-mnist.s3-website.eu-central-1.amazonaws.com/t10k-labels-idx1-ubyte.gz\n",
            "8192/5148 [===============================================] - 0s 0us/step\n",
            "Downloading data from http://fashion-mnist.s3-website.eu-central-1.amazonaws.com/t10k-images-idx3-ubyte.gz\n",
            "4423680/4422102 [==============================] - 1s 0us/step\n"
          ],
          "name": "stdout"
        }
      ]
    },
    {
      "cell_type": "code",
      "metadata": {
        "id": "ZEB7MDTpDvuw",
        "colab_type": "code",
        "colab": {}
      },
      "source": [
        "#   Deal with format issues between different backends.  Some put the # of channels in the image before the width and height of image.\n",
        "if K.image_data_format() == 'channels_first':\n",
        "    x_train = x_train.reshape(x_train.shape[0], 1, img_rows, img_cols)\n",
        "    x_test = X_test.reshape(x_test.shape[0], 1, img_rows, img_cols)\n",
        "    input_shape = (1, img_rows, img_cols)\n",
        "else:\n",
        "    x_train = x_train.reshape(x_train.shape[0], img_rows, img_cols, 1)\n",
        "    x_test = x_test.reshape(x_test.shape[0], img_rows, img_cols, 1)\n",
        "    input_shape = (img_rows, img_cols, 1)"
      ],
      "execution_count": 0,
      "outputs": []
    },
    {
      "cell_type": "code",
      "metadata": {
        "id": "XckFH-6eD493",
        "colab_type": "code",
        "colab": {}
      },
      "source": [
        "#   Type convert and scale the test and training data\n",
        "x_train = x_train.astype('float32')\n",
        "x_test = x_test.astype('float32')\n",
        "x_train /= 255\n",
        "x_test /= 255"
      ],
      "execution_count": 0,
      "outputs": []
    },
    {
      "cell_type": "code",
      "metadata": {
        "id": "LcRjdObXD_3e",
        "colab_type": "code",
        "outputId": "5ac6e02c-493a-4d28-9c35-7acc6a9968ad",
        "colab": {
          "base_uri": "https://localhost:8080/",
          "height": 68
        }
      },
      "source": [
        "print('x_train shape:', x_train.shape)\n",
        "print('x_test shape:', x_test.shape)\n",
        "\n",
        "print(y_train[:4])"
      ],
      "execution_count": 0,
      "outputs": [
        {
          "output_type": "stream",
          "text": [
            "x_train shape: (60000, 28, 28, 1)\n",
            "x_test shape: (10000, 28, 28, 1)\n",
            "[9 0 0 3]\n"
          ],
          "name": "stdout"
        }
      ]
    },
    {
      "cell_type": "code",
      "metadata": {
        "id": "RrgOlJgNED0F",
        "colab_type": "code",
        "outputId": "43d4273e-4092-40ac-a75d-d829e6e1a96c",
        "colab": {
          "base_uri": "https://localhost:8080/",
          "height": 34
        }
      },
      "source": [
        "y_train"
      ],
      "execution_count": 0,
      "outputs": [
        {
          "output_type": "execute_result",
          "data": {
            "text/plain": [
              "array([9, 0, 0, ..., 3, 0, 5], dtype=uint8)"
            ]
          },
          "metadata": {
            "tags": []
          },
          "execution_count": 7
        }
      ]
    },
    {
      "cell_type": "code",
      "metadata": {
        "id": "dJ1myQO6EF-0",
        "colab_type": "code",
        "outputId": "1072bbad-7cba-4e48-e368-59a13d8fb9c0",
        "colab": {
          "base_uri": "https://localhost:8080/",
          "height": 34
        }
      },
      "source": [
        "y_test"
      ],
      "execution_count": 0,
      "outputs": [
        {
          "output_type": "execute_result",
          "data": {
            "text/plain": [
              "array([9, 2, 1, ..., 8, 1, 5], dtype=uint8)"
            ]
          },
          "metadata": {
            "tags": []
          },
          "execution_count": 8
        }
      ]
    },
    {
      "cell_type": "code",
      "metadata": {
        "id": "LLixGnJ4EIPS",
        "colab_type": "code",
        "outputId": "620a3b4e-e724-45ff-8e8c-3c49ce9f0e91",
        "colab": {
          "base_uri": "https://localhost:8080/",
          "height": 702
        }
      },
      "source": [
        "# dataset visualization\n",
        "w=10\n",
        "h=10\n",
        "fig=plt.figure(figsize=(12, 12))\n",
        "columns = 4\n",
        "rows = 5\n",
        "for i in range(1, columns*rows +1):\n",
        "    img = np.random.randint(100)\n",
        "    fig.add_subplot(rows, columns, i)\n",
        "    plt.imshow(x_train[img][: ,: ,0])\n",
        "plt.show()\n",
        "\n",
        "#plt.imshow(x_train[1][: ,: ,0])"
      ],
      "execution_count": 0,
      "outputs": [
        {
          "output_type": "display_data",
          "data": {
            "image/png": "[encoded data removed]",
            "text/plain": [
              "<Figure size 864x864 with 20 Axes>"
            ]
          },
          "metadata": {
            "tags": []
          }
        }
      ]
    },
    {
      "cell_type": "code",
      "metadata": {
        "id": "6oGSCVg4EKZe",
        "colab_type": "code",
        "colab": {}
      },
      "source": [
        "# convert class vectors to binary class matrices.  One-hot encoding\n",
        "#  3 => 0 0 0 1 0 0 0 0 0 0 and 1 => 0 1 0 0 0 0 0 0 0 0 \n",
        "num_classes=10\n",
        "y_train = keras.utils.to_categorical(y_train,num_classes )\n",
        "y_test = keras.utils.to_categorical(y_test,num_classes)"
      ],
      "execution_count": 0,
      "outputs": []
    },
    {
      "cell_type": "code",
      "metadata": {
        "id": "wBREWc_1ENQ8",
        "colab_type": "code",
        "outputId": "845d15c4-a8b1-4ea4-cceb-69d0ab61c3b2",
        "colab": {
          "base_uri": "https://localhost:8080/",
          "height": 136
        }
      },
      "source": [
        "display(y_train)\n"
      ],
      "execution_count": 0,
      "outputs": [
        {
          "output_type": "display_data",
          "data": {
            "text/plain": [
              "array([[0., 0., 0., ..., 0., 0., 1.],\n",
              "       [1., 0., 0., ..., 0., 0., 0.],\n",
              "       [1., 0., 0., ..., 0., 0., 0.],\n",
              "       ...,\n",
              "       [0., 0., 0., ..., 0., 0., 0.],\n",
              "       [1., 0., 0., ..., 0., 0., 0.],\n",
              "       [0., 0., 0., ..., 0., 0., 0.]], dtype=float32)"
            ]
          },
          "metadata": {
            "tags": []
          }
        }
      ]
    },
    {
      "cell_type": "code",
      "metadata": {
        "id": "73t4A7ZWEgjo",
        "colab_type": "code",
        "outputId": "16b066e1-3e73-43bc-ac32-982f34403524",
        "colab": {
          "base_uri": "https://localhost:8080/",
          "height": 136
        }
      },
      "source": [
        ""
      ],
      "execution_count": 0,
      "outputs": [
        {
          "output_type": "display_data",
          "data": {
            "text/plain": [
              "array([[0., 0., 0., ..., 0., 0., 1.],\n",
              "       [0., 0., 1., ..., 0., 0., 0.],\n",
              "       [0., 1., 0., ..., 0., 0., 0.],\n",
              "       ...,\n",
              "       [0., 0., 0., ..., 0., 1., 0.],\n",
              "       [0., 1., 0., ..., 0., 0., 0.],\n",
              "       [0., 0., 0., ..., 0., 0., 0.]], dtype=float32)"
            ]
          },
          "metadata": {
            "tags": []
          }
        }
      ]
    },
    {
      "cell_type": "code",
      "metadata": {
        "id": "SwXVUNeEEi--",
        "colab_type": "code",
        "outputId": "30d17e4b-d09e-4b33-e466-45e15996ecc6",
        "colab": {
          "base_uri": "https://localhost:8080/",
          "height": 258
        }
      },
      "source": [
        "# set up the layers\n",
        "model = Sequential()\n",
        "\n",
        "model.add(Conv2D(32, kernel_size=(3, 3),activation='relu', input_shape=input_shape))\n",
        "\n",
        "\n",
        "model.add(MaxPooling2D(pool_size=(2, 2)))\n",
        "model.add(Conv2D(32, (3, 3), activation='relu'))\n",
        "model.add(MaxPooling2D(pool_size=(2, 2)))\n",
        "model.add(Flatten())\n",
        "model.add(Dense(128, activation='relu'))\n",
        "model.add(Dropout(0.5))\n",
        "model.add(Dense(num_classes, activation='softmax'))\n",
        "\n",
        "\n"
      ],
      "execution_count": 0,
      "outputs": [
        {
          "output_type": "stream",
          "text": [
            "WARNING:tensorflow:From /usr/local/lib/python3.6/dist-packages/keras/backend/tensorflow_backend.py:66: The name tf.get_default_graph is deprecated. Please use tf.compat.v1.get_default_graph instead.\n",
            "\n",
            "WARNING:tensorflow:From /usr/local/lib/python3.6/dist-packages/keras/backend/tensorflow_backend.py:541: The name tf.placeholder is deprecated. Please use tf.compat.v1.placeholder instead.\n",
            "\n",
            "WARNING:tensorflow:From /usr/local/lib/python3.6/dist-packages/keras/backend/tensorflow_backend.py:4432: The name tf.random_uniform is deprecated. Please use tf.random.uniform instead.\n",
            "\n",
            "WARNING:tensorflow:From /usr/local/lib/python3.6/dist-packages/keras/backend/tensorflow_backend.py:4267: The name tf.nn.max_pool is deprecated. Please use tf.nn.max_pool2d instead.\n",
            "\n",
            "WARNING:tensorflow:From /usr/local/lib/python3.6/dist-packages/keras/backend/tensorflow_backend.py:148: The name tf.placeholder_with_default is deprecated. Please use tf.compat.v1.placeholder_with_default instead.\n",
            "\n",
            "WARNING:tensorflow:From /usr/local/lib/python3.6/dist-packages/keras/backend/tensorflow_backend.py:3733: calling dropout (from tensorflow.python.ops.nn_ops) with keep_prob is deprecated and will be removed in a future version.\n",
            "Instructions for updating:\n",
            "Please use `rate` instead of `keep_prob`. Rate should be set to `rate = 1 - keep_prob`.\n"
          ],
          "name": "stdout"
        }
      ]
    },
    {
      "cell_type": "code",
      "metadata": {
        "id": "2Gc1BBmGEmAZ",
        "colab_type": "code",
        "outputId": "9446d123-82d2-40ef-cbf7-79f05017f087",
        "colab": {
          "base_uri": "https://localhost:8080/",
          "height": 105
        }
      },
      "source": [
        "#   define compile to minimize categorical loss, use ada delta optimized, and optimize to maximizing accuracy\n",
        "model.compile(loss=keras.losses.categorical_crossentropy,\n",
        "              optimizer=keras.optimizers.Adadelta(),\n",
        "              metrics=['accuracy'])"
      ],
      "execution_count": 0,
      "outputs": [
        {
          "output_type": "stream",
          "text": [
            "WARNING:tensorflow:From /usr/local/lib/python3.6/dist-packages/keras/optimizers.py:793: The name tf.train.Optimizer is deprecated. Please use tf.compat.v1.train.Optimizer instead.\n",
            "\n",
            "WARNING:tensorflow:From /usr/local/lib/python3.6/dist-packages/keras/backend/tensorflow_backend.py:3576: The name tf.log is deprecated. Please use tf.math.log instead.\n",
            "\n"
          ],
          "name": "stdout"
        }
      ]
    },
    {
      "cell_type": "code",
      "metadata": {
        "id": "4KbwgU1zYkwC",
        "colab_type": "code",
        "outputId": "82c645c5-55df-4363-daba-8f9bd93a9133",
        "colab": {
          "base_uri": "https://localhost:8080/",
          "height": 1000
        }
      },
      "source": [
        "# fitting the model\n",
        "hist = model.fit(x_train, y_train,\n",
        "          batch_size=batch_size,\n",
        "          epochs=epochs,\n",
        "          verbose=1,\n",
        "          validation_data=(x_test, y_test))"
      ],
      "execution_count": 0,
      "outputs": [
        {
          "output_type": "stream",
          "text": [
            "WARNING:tensorflow:From /usr/local/lib/python3.6/dist-packages/tensorflow_core/python/ops/math_grad.py:1424: where (from tensorflow.python.ops.array_ops) is deprecated and will be removed in a future version.\n",
            "Instructions for updating:\n",
            "Use tf.where in 2.0, which has the same broadcast rule as np.where\n",
            "WARNING:tensorflow:From /usr/local/lib/python3.6/dist-packages/keras/backend/tensorflow_backend.py:1033: The name tf.assign_add is deprecated. Please use tf.compat.v1.assign_add instead.\n",
            "\n",
            "WARNING:tensorflow:From /usr/local/lib/python3.6/dist-packages/keras/backend/tensorflow_backend.py:1020: The name tf.assign is deprecated. Please use tf.compat.v1.assign instead.\n",
            "\n",
            "WARNING:tensorflow:From /usr/local/lib/python3.6/dist-packages/keras/backend/tensorflow_backend.py:3005: The name tf.Session is deprecated. Please use tf.compat.v1.Session instead.\n",
            "\n",
            "Train on 60000 samples, validate on 10000 samples\n",
            "Epoch 1/24\n",
            "WARNING:tensorflow:From /usr/local/lib/python3.6/dist-packages/keras/backend/tensorflow_backend.py:190: The name tf.get_default_session is deprecated. Please use tf.compat.v1.get_default_session instead.\n",
            "\n",
            "WARNING:tensorflow:From /usr/local/lib/python3.6/dist-packages/keras/backend/tensorflow_backend.py:197: The name tf.ConfigProto is deprecated. Please use tf.compat.v1.ConfigProto instead.\n",
            "\n",
            "WARNING:tensorflow:From /usr/local/lib/python3.6/dist-packages/keras/backend/tensorflow_backend.py:207: The name tf.global_variables is deprecated. Please use tf.compat.v1.global_variables instead.\n",
            "\n",
            "WARNING:tensorflow:From /usr/local/lib/python3.6/dist-packages/keras/backend/tensorflow_backend.py:216: The name tf.is_variable_initialized is deprecated. Please use tf.compat.v1.is_variable_initialized instead.\n",
            "\n",
            "WARNING:tensorflow:From /usr/local/lib/python3.6/dist-packages/keras/backend/tensorflow_backend.py:223: The name tf.variables_initializer is deprecated. Please use tf.compat.v1.variables_initializer instead.\n",
            "\n",
            "60000/60000 [==============================] - 16s 270us/step - loss: 0.6814 - acc: 0.7495 - val_loss: 0.4772 - val_acc: 0.8210\n",
            "Epoch 2/24\n",
            "60000/60000 [==============================] - 2s 42us/step - loss: 0.4283 - acc: 0.8475 - val_loss: 0.3791 - val_acc: 0.8585\n",
            "Epoch 3/24\n",
            "60000/60000 [==============================] - 3s 43us/step - loss: 0.3712 - acc: 0.8669 - val_loss: 0.3430 - val_acc: 0.8756\n",
            "Epoch 4/24\n",
            "60000/60000 [==============================] - 2s 40us/step - loss: 0.3438 - acc: 0.8776 - val_loss: 0.3368 - val_acc: 0.8749\n",
            "Epoch 5/24\n",
            "60000/60000 [==============================] - 2s 41us/step - loss: 0.3192 - acc: 0.8855 - val_loss: 0.3038 - val_acc: 0.8907\n",
            "Epoch 6/24\n",
            "60000/60000 [==============================] - 2s 40us/step - loss: 0.3032 - acc: 0.8915 - val_loss: 0.2952 - val_acc: 0.8910\n",
            "Epoch 7/24\n",
            "60000/60000 [==============================] - 2s 41us/step - loss: 0.2869 - acc: 0.8967 - val_loss: 0.2756 - val_acc: 0.8973\n",
            "Epoch 8/24\n",
            "60000/60000 [==============================] - 3s 42us/step - loss: 0.2750 - acc: 0.9009 - val_loss: 0.2734 - val_acc: 0.9020\n",
            "Epoch 9/24\n",
            "60000/60000 [==============================] - 2s 41us/step - loss: 0.2626 - acc: 0.9051 - val_loss: 0.2697 - val_acc: 0.9053\n",
            "Epoch 10/24\n",
            "60000/60000 [==============================] - 3s 44us/step - loss: 0.2551 - acc: 0.9073 - val_loss: 0.2655 - val_acc: 0.9027\n",
            "Epoch 11/24\n",
            "60000/60000 [==============================] - 2s 40us/step - loss: 0.2451 - acc: 0.9112 - val_loss: 0.2689 - val_acc: 0.9026\n",
            "Epoch 12/24\n",
            "60000/60000 [==============================] - 2s 39us/step - loss: 0.2376 - acc: 0.9135 - val_loss: 0.2826 - val_acc: 0.8927\n",
            "Epoch 13/24\n",
            "60000/60000 [==============================] - 3s 43us/step - loss: 0.2326 - acc: 0.9158 - val_loss: 0.2572 - val_acc: 0.9032\n",
            "Epoch 14/24\n",
            "60000/60000 [==============================] - 2s 40us/step - loss: 0.2255 - acc: 0.9183 - val_loss: 0.2540 - val_acc: 0.9067\n",
            "Epoch 15/24\n",
            "60000/60000 [==============================] - 2s 41us/step - loss: 0.2185 - acc: 0.9209 - val_loss: 0.2538 - val_acc: 0.9082\n",
            "Epoch 16/24\n",
            "60000/60000 [==============================] - 2s 41us/step - loss: 0.2132 - acc: 0.9218 - val_loss: 0.2482 - val_acc: 0.9110\n",
            "Epoch 17/24\n",
            "60000/60000 [==============================] - 2s 40us/step - loss: 0.2086 - acc: 0.9236 - val_loss: 0.2569 - val_acc: 0.9075\n",
            "Epoch 18/24\n",
            "60000/60000 [==============================] - 2s 41us/step - loss: 0.2042 - acc: 0.9258 - val_loss: 0.2529 - val_acc: 0.9095\n",
            "Epoch 19/24\n",
            "60000/60000 [==============================] - 3s 43us/step - loss: 0.1975 - acc: 0.9279 - val_loss: 0.2437 - val_acc: 0.9114\n",
            "Epoch 20/24\n",
            "60000/60000 [==============================] - 2s 42us/step - loss: 0.1942 - acc: 0.9287 - val_loss: 0.2499 - val_acc: 0.9084\n",
            "Epoch 21/24\n",
            "60000/60000 [==============================] - 2s 41us/step - loss: 0.1904 - acc: 0.9289 - val_loss: 0.2531 - val_acc: 0.9096\n",
            "Epoch 22/24\n",
            "60000/60000 [==============================] - 2s 40us/step - loss: 0.1861 - acc: 0.9313 - val_loss: 0.2505 - val_acc: 0.9125\n",
            "Epoch 23/24\n",
            "60000/60000 [==============================] - 2s 40us/step - loss: 0.1818 - acc: 0.9335 - val_loss: 0.2481 - val_acc: 0.9131\n",
            "Epoch 24/24\n",
            "60000/60000 [==============================] - 3s 42us/step - loss: 0.1783 - acc: 0.9345 - val_loss: 0.2580 - val_acc: 0.9159\n"
          ],
          "name": "stdout"
        }
      ]
    },
    {
      "cell_type": "code",
      "metadata": {
        "id": "3c_LxBvEUOj6",
        "colab_type": "code",
        "colab": {}
      },
      "source": [
        "# inferencing results from trained model\n",
        "val_accuracy = hist.history['val_acc']\n",
        "accuracy = hist.history['acc']\n",
        "val_loss = hist.history['loss']"
      ],
      "execution_count": 0,
      "outputs": []
    },
    {
      "cell_type": "code",
      "metadata": {
        "id": "Y8zZ9Vw3UuoL",
        "colab_type": "code",
        "outputId": "de652f6f-153e-430c-a5ec-e3e60bf5906d",
        "colab": {
          "base_uri": "https://localhost:8080/",
          "height": 265
        }
      },
      "source": [
        "\n",
        "#  plotting the infered results\n",
        "plt.plot(val_accuracy , label  = 'validation accuracy')\n",
        "plt.plot(accur4.8 Analyzing Fitted Modelacy , label = 'model accuracy')\n",
        "plt.plot(val_loss , label = 'validation loss')\n",
        "plt.legend()\n",
        "plt.show()\n"
      ],
      "execution_count": 0,
      "outputs": [
        {
          "output_type": "display_data",
          "data": {
            "image/png": "[encoded data removed]",
            "text/plain": [
              "<Figure size 432x288 with 1 Axes>"
            ]
          },
          "metadata": {
            "tags": []
          }
        }
      ]
    },
    {
      "cell_type": "code",
      "metadata": {
        "id": "m_PG0ID8UyqS",
        "colab_type": "code",
        "colab": {}
      },
      "source": [
        "# model evaluation\n",
        "score = model.evaluate(x_test, y_test, verbose=0)"
      ],
      "execution_count": 0,
      "outputs": []
    },
    {
      "cell_type": "code",
      "metadata": {
        "id": "YdvLYmoAVel6",
        "colab_type": "code",
        "outputId": "2badf32b-8e39-472b-868e-05c96740f473",
        "colab": {
          "base_uri": "https://localhost:8080/",
          "height": 51
        }
      },
      "source": [
        "print('accuracy: ',score[1])\n",
        "print('loss: ',score[0])"
      ],
      "execution_count": 0,
      "outputs": [
        {
          "output_type": "stream",
          "text": [
            "accuracy:  0.9159\n",
            "loss:  0.25804112774729726\n"
          ],
          "name": "stdout"
        }
      ]
    },
    {
      "cell_type": "markdown",
      "metadata": {
        "id": "Ak1K66miao1U",
        "colab_type": "text"
      },
      "source": [
        "# Model Prediction"
      ]
    },
    {
      "cell_type": "code",
      "metadata": {
        "id": "jeJQAvjDVlGd",
        "colab_type": "code",
        "colab": {}
      },
      "source": [
        "test = x_test[0]"
      ],
      "execution_count": 0,
      "outputs": []
    },
    {
      "cell_type": "code",
      "metadata": {
        "id": "eepRRZsWVraz",
        "colab_type": "code",
        "colab": {}
      },
      "source": [
        "test = test.reshape(1,28 ,28,1)"
      ],
      "execution_count": 0,
      "outputs": []
    },
    {
      "cell_type": "code",
      "metadata": {
        "id": "PFmoSi8QV1Eu",
        "colab_type": "code",
        "outputId": "9e2bff3d-3444-4650-bbbf-22ce9a2a96b1",
        "colab": {
          "base_uri": "https://localhost:8080/",
          "height": 34
        }
      },
      "source": [
        "test.shape"
      ],
      "execution_count": 0,
      "outputs": [
        {
          "output_type": "execute_result",
          "data": {
            "text/plain": [
              "(1, 28, 28, 1)"
            ]
          },
          "metadata": {
            "tags": []
          },
          "execution_count": 22
        }
      ]
    },
    {
      "cell_type": "code",
      "metadata": {
        "id": "XJYHDWN9V8mw",
        "colab_type": "code",
        "outputId": "cbecc220-3b78-4fc1-fdee-4bbaf272ebd3",
        "colab": {
          "base_uri": "https://localhost:8080/",
          "height": 34
        }
      },
      "source": [
        "model.predict(test).argmax()"
      ],
      "execution_count": 0,
      "outputs": [
        {
          "output_type": "execute_result",
          "data": {
            "text/plain": [
              "9"
            ]
          },
          "metadata": {
            "tags": []
          },
          "execution_count": 23
        }
      ]
    },
    {
      "cell_type": "code",
      "metadata": {
        "id": "Ia5QzbbrV9pM",
        "colab_type": "code",
        "outputId": "3404c71e-ff7e-42a7-dafe-aa81120216ab",
        "colab": {
          "base_uri": "https://localhost:8080/",
          "height": 34
        }
      },
      "source": [
        "y_test[0]"
      ],
      "execution_count": 0,
      "outputs": [
        {
          "output_type": "execute_result",
          "data": {
            "text/plain": [
              "array([0., 0., 0., 0., 0., 0., 0., 0., 0., 1.], dtype=float32)"
            ]
          },
          "metadata": {
            "tags": []
          },
          "execution_count": 24
        }
      ]
    },
    {
      "cell_type": "code",
      "metadata": {
        "id": "_hCx_AN-WDYz",
        "colab_type": "code",
        "colab": {}
      },
      "source": [
        ""
      ],
      "execution_count": 0,
      "outputs": []
    }
  ]
}